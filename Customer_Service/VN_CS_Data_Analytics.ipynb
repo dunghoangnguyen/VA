{
 "cells": [
  {
   "cell_type": "markdown",
   "metadata": {
    "application/vnd.databricks.v1+cell": {
     "cellMetadata": {},
     "inputWidgets": {},
     "nuid": "ac8d5f42-8d33-4e27-8010-6da293bc4844",
     "showTitle": false,
     "title": ""
    }
   },
   "source": [
    "#VN Customer Service Data Analytics\n",
    "\n",
    "###Objective: To curate data table as input to Power BI to visualize Inbound Call and Inbound Email case categories\n",
    "\n",
    "Serve as input to prioritize scope for solution to reduce total inbound call and inbound email volume to reduce call and improve customer experience and self service solution adoption"
   ]
  },
  {
   "cell_type": "code",
   "execution_count": 0,
   "metadata": {
    "application/vnd.databricks.v1+cell": {
     "cellMetadata": {
      "byteLimit": 2048000,
      "rowLimit": 10000
     },
     "inputWidgets": {},
     "nuid": "25e50e31-6d50-4107-9755-fa6ebb397e47",
     "showTitle": false,
     "title": ""
    }
   },
   "outputs": [],
   "source": [
    "%run \"/Repos/dung_nguyen_hoang@mfcgd.com/Utilities/Functions\""
   ]
  },
  {
   "cell_type": "markdown",
   "metadata": {
    "application/vnd.databricks.v1+cell": {
     "cellMetadata": {},
     "inputWidgets": {},
     "nuid": "8841cd7e-7848-4bda-8535-7ed290e879da",
     "showTitle": false,
     "title": ""
    }
   },
   "source": [
    "<strong>Load libls, params and paths</strong>"
   ]
  },
  {
   "cell_type": "code",
   "execution_count": 0,
   "metadata": {
    "application/vnd.databricks.v1+cell": {
     "cellMetadata": {
      "byteLimit": 2048000,
      "rowLimit": 10000
     },
     "inputWidgets": {},
     "nuid": "f684dd12-5413-4e91-b1ff-f87cff9f9971",
     "showTitle": false,
     "title": ""
    }
   },
   "outputs": [],
   "source": [
    "from pyspark.sql.functions import *\n",
    "from datetime import date, datetime, timedelta\n",
    "\n",
    "spark.conf.set('partitionOverwriteMode', 'dynamic')\n",
    "\n",
    "sfdc_path = '/mnt/prod/Published/VN/Master/VN_PUBLISHED_SFDC_EASYCLAIMS_DB/'\n",
    "cics_path = '/mnt/prod/Published/VN/Master/VN_PUBLISHED_CICS_DB/'\n",
    "cas_path = '/mnt/prod/Published/VN/Master/VN_PUBLISHED_CAS_DB/'\n",
    "dm_path = '/mnt/prod/Curated/VN/Master/VN_CURATED_DATAMART_DB/'\n",
    "\n",
    "tblSrc1 = 'CASE/'\n",
    "tblSrc2 = 'USER/'\n",
    "tblSrc3 = 'TCISC_SERVICE_DETAILS/'\n",
    "tblSrc4 = 'TFIELD_VALUES/'\n",
    "tblSrc5 = 'tpolidm_daily/'\n",
    "tblSrc6 = 'tcustdm_daily/'\n",
    "tblSrc7 = 'tagtdm_daily/'\n",
    "\n",
    "src_paths = [sfdc_path,cics_path,cas_path,dm_path]\n",
    "src_files = [tblSrc1,tblSrc2,tblSrc3,tblSrc4,\n",
    "             tblSrc5,tblSrc6,tblSrc7,]\n",
    "\n",
    "x = 0 # Change to number of months ago (0: last month-end, 1: last last month-end, ...)\n",
    "today = datetime.now()\n",
    "first_day_of_current_month = today.replace(day=1)\n",
    "current_month = first_day_of_current_month\n",
    "\n",
    "for i in range(x):\n",
    "    first_day_of_previous_month = current_month - timedelta(days=1)\n",
    "    first_day_of_previous_month = first_day_of_previous_month.replace(day=1)\n",
    "    current_month = first_day_of_previous_month\n",
    "\n",
    "last_day_of_x_months_ago = current_month - timedelta(days=1)\n",
    "st_mth = date(2023, 1, 1).strftime('%Y-%m-%d')\n",
    "end_mth = last_day_of_x_months_ago.strftime('%Y-%m-%d')\n",
    "st_yr = st_mth[0:4]\n",
    "print(\"Start and end date:\", st_mth, end_mth)\n",
    "print(f\"Start year: {st_yr}\")"
   ]
  },
  {
   "cell_type": "markdown",
   "metadata": {
    "application/vnd.databricks.v1+cell": {
     "cellMetadata": {},
     "inputWidgets": {},
     "nuid": "5701feba-3b45-451c-beaf-5f3afc1b68e6",
     "showTitle": false,
     "title": ""
    }
   },
   "source": [
    "<strong>Load parquet files and convert to temp views</strong>"
   ]
  },
  {
   "cell_type": "code",
   "execution_count": 0,
   "metadata": {
    "application/vnd.databricks.v1+cell": {
     "cellMetadata": {
      "byteLimit": 2048000,
      "rowLimit": 10000
     },
     "inputWidgets": {},
     "nuid": "52351623-f89c-4542-9955-e7a72c6ae849",
     "showTitle": false,
     "title": ""
    }
   },
   "outputs": [],
   "source": [
    "list_df = load_parquet_files(src_paths, src_files)"
   ]
  },
  {
   "cell_type": "code",
   "execution_count": 0,
   "metadata": {
    "application/vnd.databricks.v1+cell": {
     "cellMetadata": {
      "byteLimit": 2048000,
      "rowLimit": 10000
     },
     "inputWidgets": {},
     "nuid": "7b048627-fce7-4647-bb65-f1b1f97217bf",
     "showTitle": false,
     "title": ""
    }
   },
   "outputs": [],
   "source": [
    "generate_temp_view(list_df)"
   ]
  },
  {
   "cell_type": "markdown",
   "metadata": {
    "application/vnd.databricks.v1+cell": {
     "cellMetadata": {},
     "inputWidgets": {},
     "nuid": "dfe5d80e-e028-40be-a9a0-d4be55e04892",
     "showTitle": false,
     "title": ""
    }
   },
   "source": [
    "##Data Curation"
   ]
  },
  {
   "cell_type": "markdown",
   "metadata": {
    "application/vnd.databricks.v1+cell": {
     "cellMetadata": {},
     "inputWidgets": {},
     "nuid": "8d904721-cc72-4fdb-b825-0a1801b385db",
     "showTitle": false,
     "title": ""
    }
   },
   "source": [
    "Extract data from SFOX to form the base"
   ]
  },
  {
   "cell_type": "code",
   "execution_count": 0,
   "metadata": {
    "application/vnd.databricks.v1+cell": {
     "cellMetadata": {
      "byteLimit": 2048000,
      "implicitDf": true,
      "rowLimit": 10000
     },
     "inputWidgets": {},
     "nuid": "ca75a833-7487-4010-85fa-b6e36e0d532a",
     "showTitle": false,
     "title": ""
    }
   },
   "outputs": [],
   "source": [
    "sfdc_case_string = \"\"\"\n",
    "SELECT DISTINCT\n",
    "  'VN'                    AS Market\n",
    ", A.CaseNumber            AS Case_ID\n",
    ", A.CreatedDate           AS Created_Date\n",
    ", 'IFP'                   AS LOB\n",
    ", ''                      AS Sub_Group\n",
    ", A.Case_Type__c          AS Queue\n",
    ", A.CreatedBy             AS Created_By\n",
    ", A.Origin                AS Origin_of_Inbound_Inquiry\n",
    ", A.Requester_Role__c     AS Inquirer_Group\n",
    ", ''                      AS Inquirer_Rel_To_Pol\n",
    ", A.Policy_Number__c      AS Pol_Num\n",
    ", A.First_Contact_Resolution__c\n",
    ", date_trunc('DD', A.CreatedDate) as case_creation_date\n",
    ", A.LastModifiedDate\n",
    ", NVL(A.Type, 'NaN')      AS Type\n",
    ", A.Type__c               AS Sub_Type\n",
    ", B.plan_code\n",
    ", B.pol_iss_dt\n",
    ", B.pol_eff_dt\n",
    ", B.xpry_dt\n",
    ", B.bill_mthd\n",
    ", B.pmt_mode\n",
    ", B.po_num\n",
    ", B.po_iss_age\n",
    ", B.insrd_num\n",
    ", B.sa_code\n",
    ", B.wa_code\n",
    ", CASE WHEN B.wa_code = B.sa_code THEN 'Never Reassigned' ELSE \"Reassigned\" END AS Ever_Reassigned\n",
    ", datediff(A.CreatedDate, B.pol_eff_dt) AS Pol_Tenure_in_Days\n",
    ", C.channel\n",
    ", C.rank_code\n",
    ", C.br_code\n",
    ", D.cli_typ\n",
    ", D.birth_dt\n",
    ", D.sex_code\n",
    "\n",
    "FROM `case` A\n",
    "LEFT JOIN tpolidm_daily B on A.Policy_Number__c = B.pol_num\n",
    "LEFT JOIN tagtdm_daily C on B.sa_code = C.agt_code\n",
    "LEFT JOIN tcustdm_daily D on B.po_num = D.cli_num\n",
    "\n",
    "WHERE 1=1\n",
    "AND A.Origin in ('Inbound call', 'Email')\n",
    "AND Year(A.CreatedDate) >= {st_yr}\n",
    "\"\"\"\n",
    "\n",
    "df_vn_sfdc_case = sql_to_df(sfdc_case_string, 1, spark)"
   ]
  },
  {
   "cell_type": "code",
   "execution_count": 0,
   "metadata": {
    "application/vnd.databricks.v1+cell": {
     "cellMetadata": {
      "byteLimit": 2048000,
      "implicitDf": true,
      "rowLimit": 10000
     },
     "inputWidgets": {},
     "nuid": "4b420cee-7a86-412a-9c52-f10b41325e4b",
     "showTitle": false,
     "title": ""
    }
   },
   "outputs": [],
   "source": [
    "#print(df_vn_sfdc_case.count())\n",
    "df_vn_sfdc_case.createOrReplaceTempView('df_vn_sfdc_case')"
   ]
  },
  {
   "cell_type": "code",
   "execution_count": 0,
   "metadata": {
    "application/vnd.databricks.v1+cell": {
     "cellMetadata": {
      "byteLimit": 2048000,
      "implicitDf": true,
      "rowLimit": 10000
     },
     "inputWidgets": {},
     "nuid": "e2ff305b-bb1f-4906-b0a7-c86d6f31a601",
     "showTitle": false,
     "title": ""
    }
   },
   "outputs": [],
   "source": [
    "%sql\n",
    "-- new build\n",
    "create or replace temporary view df_Last_Next_Date2 AS\n",
    "\n",
    "SELECT DISTINCT\n",
    "Case_ID\n",
    ", Pol_Num\n",
    ", concat(Pol_Num, concat(Type, Sub_Type)) AS KEY\n",
    ", case_creation_date\n",
    ", lag(case_creation_date) over (partition by concat(Pol_Num, concat(Type, Sub_Type)) order by case_creation_date) as Last_Case_Date \n",
    ", lead(case_creation_date) over (partition by concat(Pol_Num, concat(Type, Sub_Type)) order by case_creation_date) as Next_Case_Date \n",
    "\n",
    "from (Select distinct Case_ID, case_creation_date, Pol_Num, Type, Sub_Type from df_vn_sfdc_case)\n",
    "Where Pol_Num <> '000'"
   ]
  },
  {
   "cell_type": "code",
   "execution_count": 0,
   "metadata": {
    "application/vnd.databricks.v1+cell": {
     "cellMetadata": {
      "byteLimit": 2048000,
      "implicitDf": true,
      "rowLimit": 10000
     },
     "inputWidgets": {},
     "nuid": "f057838d-f76b-45c8-9570-d34e3f02ec95",
     "showTitle": false,
     "title": ""
    }
   },
   "outputs": [],
   "source": [
    "%sql\n",
    "\n",
    "create or replace temporary view df_CWS_Last_Log2 AS\n",
    "\n",
    "SELECT distinct \n",
    "CaseNumber\n",
    ", Log_Date\n",
    ", user_num\n",
    "From df_CWS_Last_Log\n"
   ]
  },
  {
   "cell_type": "code",
   "execution_count": 0,
   "metadata": {
    "application/vnd.databricks.v1+cell": {
     "cellMetadata": {
      "byteLimit": 2048000,
      "implicitDf": true,
      "rowLimit": 10000
     },
     "inputWidgets": {},
     "nuid": "bdba6a13-a776-43e3-9ba2-8caccfe966ab",
     "showTitle": false,
     "title": ""
    }
   },
   "outputs": [],
   "source": [
    "%sql\n",
    "\n",
    "create or replace temporary view df_Output AS\n",
    "\n",
    "SELECT DISTINCT \n",
    "\n",
    "A.CAS_User_Full_Name__c\n",
    ", A.CaseNumber\n",
    ", A.Case_Record_Type__c\n",
    ", A.OwnerProfileName__c\n",
    ", A.OwnerRole__c\n",
    ", A.Plan_Name__c\n",
    ", A.Plan_Name_Rider__c\n",
    ", A.PlanNameCap__c\n",
    ", A.Policy_Number__c\n",
    ", A.ServicingAgent__c\n",
    ", A.ServicingAgentName__c\n",
    ", A.User_Department__c\n",
    ", A.Complaint_Channel__c\n",
    ", A.CreatedById\n",
    ", A.CreatedDate\n",
    ", A.isDeleted\n",
    ", A.Origin\n",
    ", A.Sub_Type__c\n",
    ", A.Type\n",
    ", A.case_creation_date\n",
    ", A.LastModifiedDate\n",
    ", A.Policy_is_high_networth\n",
    ", A.policy_is_ul_plan\n",
    ", A.policy_orphan_indicator\n",
    ", A.policy_base_category\n",
    ", A.policy_base_needs\n",
    ", A.policy_issue_date\n",
    ", A.policy_effective_date\n",
    ", A.policy_expiry_date\n",
    ", A.policy_bill_method\n",
    ", A.policy_bill_method2\n",
    ", A.policy_payment_mode\n",
    ", A.policy_owner_client_number\n",
    ", A.policy_owner_effective_age\n",
    ", A.policy_insured_client_number\n",
    ", A.policy_servicing_agent_code\n",
    ", A.policy_writting_agent_code\n",
    ", A.Pol_Tenure_in_Days\n",
    ", A.channel_group\n",
    ", A.channel\n",
    ", A.unit_name\n",
    ", A.branch_name\n",
    ", A.zone\n",
    ", A.dbs_group\n",
    ", A.client_type\n",
    ", A.client_birth_date\n",
    ", A.client_gender\n",
    "\n",
    ", B.Last_Case_Date\n",
    ", B.Next_Case_Date\n",
    "\n",
    ", C.user_num\n",
    ", C.Create_Date\n",
    "\n",
    ", D.Log_date\n",
    "\n",
    "\n",
    "FROM df_sg_sfox2_case A\n",
    "LEFT JOIN df_Last_Next_Date2 B on A.CaseNumber = B.CaseNumber\n",
    "LEFT JOIN df_CWS_User_Num_unique2 C on A.policy_owner_client_number = C.cli_num\n",
    "LEFT JOIN df_CWS_Last_Log2 D on A.CaseNumber = D.CaseNumber\n",
    "\n"
   ]
  },
  {
   "cell_type": "code",
   "execution_count": 0,
   "metadata": {
    "application/vnd.databricks.v1+cell": {
     "cellMetadata": {
      "byteLimit": 2048000,
      "implicitDf": true,
      "rowLimit": 10000
     },
     "inputWidgets": {},
     "nuid": "5d33ce29-6572-4834-9c4f-74ca5f23644c",
     "showTitle": false,
     "title": ""
    }
   },
   "outputs": [],
   "source": [
    "%sql\n",
    "Select Count(*) from df_output"
   ]
  },
  {
   "cell_type": "markdown",
   "metadata": {
    "application/vnd.databricks.v1+cell": {
     "cellMetadata": {},
     "inputWidgets": {},
     "nuid": "bdb2afa8-621f-4d5e-9d0e-596f1b9cf37b",
     "showTitle": false,
     "title": ""
    }
   },
   "source": [
    "##Final Output = cservicedm"
   ]
  },
  {
   "cell_type": "code",
   "execution_count": 0,
   "metadata": {
    "application/vnd.databricks.v1+cell": {
     "cellMetadata": {
      "byteLimit": 2048000,
      "implicitDf": true,
      "rowLimit": 10000
     },
     "inputWidgets": {},
     "nuid": "67923ed8-69b7-4535-810a-038b5e3e6a6c",
     "showTitle": false,
     "title": ""
    }
   },
   "outputs": [],
   "source": [
    "\n",
    "cservicedm = spark.sql(\"\"\"\n",
    "    Select\n",
    "        A.CAS_User_Full_Name__c\tAS\tCAS_User_Name\n",
    "        , A.CaseNumber\tAS\tCase_ID\n",
    "        , A.CC_Case_Record_Type__c\tAS\tCC_Case_Record_Type\n",
    "        , A.CC_OwnerProfileName__c\tAS\tCC_OwnerProfileName\n",
    "        , A.CC_OwnerRole__c\tAS\tCC_OwnerRole\n",
    "        , A.CC_Plan_Name__c\tAS\tCC_Plan_Name\n",
    "        , A.CC_Plan_Name_Rider__c\tAS\tCC_Rider_Name\n",
    "        , A.CC_PlanNameCap__c\tAS\tCC_Plan_Name_Cap\n",
    "        , A.CC_Policy_Number__c\tAS\tPol_Num\n",
    "        , A.CC_ServicingAgent__c\tAS\tCC_Servicing_Agent\n",
    "        , A.CC_ServicingAgentName__c\tAS\tCC_Servicing_AgentName\n",
    "        , A.CC_User_Department__c\tAS\tCC_User_Department\n",
    "        , A.Complaint_Channel__c\tAS\tComplaint_Channel\n",
    "        , A.CreatedById\tAS\tCreatedBy_ID\n",
    "        , A.CreatedDate\tAS\tCreated_Date\n",
    "        , A.isDeleted\tAS\tIsDeleted\n",
    "        , A.Origin\tAS\tOrigin_of_Inbound_Inquiry\n",
    "        , A.Sub_Type__c\tAS\tLv_2_Case_Category\n",
    "        , A.Type\tAS\tLv_1_Case_Category\n",
    "        , A.case_creation_date\tAS\tCase_Creation_Date\n",
    "        , A.LastModifiedDate\n",
    "        , A.Policy_is_high_networth\tAS\tIs_HNW\n",
    "        , A.policy_is_ul_plan\tAS\tIs_UL\n",
    "        , A.policy_orphan_indicator\tAS\tPolicy_Orphan_Indicator_curr\n",
    "        , A.policy_base_category\tAS\tPolicy_Base_Category\n",
    "        , A.policy_base_needs\tAS\tPolicy_Base_Needs\n",
    "        , A.policy_issue_date\tAS\tPolicy_Issue_Date\n",
    "        , A.policy_effective_date\tAS\tPolicy_Effective_Date\n",
    "        , A.policy_expiry_date\tAS\tPolicy_Expiry_Date_curr\n",
    "        , A.policy_bill_method\tAS\tBill_Method_curr\n",
    "        , A.policy_bill_method2\tAS\tBill_Method2_curr\n",
    "        , A.policy_payment_mode\tAS\tPayment_Mode_curr\n",
    "        , A.policy_owner_client_number\tAS\tPolicy_Owner_Client_Number\n",
    "        , A.policy_owner_effective_age\tAS\tPO_Effective_Age\n",
    "        , A.policy_insured_client_number\tAS\tInsured_Client_Number_curr\n",
    "        , A.policy_servicing_agent_code\tAS\tServicing_Agent_curr\n",
    "        , A.policy_writting_agent_code\tAS\tWriting_Agente\n",
    "        , A.Pol_Tenure_in_Days\tAS\tPol_Tenure_in_Days\n",
    "        , A.channel_group\tAS\tSA_Channel_Group_curr\n",
    "        , A.channel\tAS\tSA_Channel_curr\n",
    "        , A.unit_name\tAS\tSA_Unit_Name_curr\n",
    "        , A.branch_name\tAS\tSA_Branch_Name_curr\n",
    "        , A.zone\tAS\tSA_Zone_curr\n",
    "        , A.dbs_group\tAS\tPO_DBS_Group_curr\n",
    "        , A.client_type\tAS\tPO_Client_Type_curr\n",
    "        , A.client_birth_date\tAS\tPO_DOB\n",
    "        , A.client_gender\tAS\tPO_Gender\n",
    "\n",
    "        , B.Last_Case_Date AS Last_Case_Date\n",
    "        , B.Next_Case_Date AS Next_Case_Date\n",
    "\n",
    "        , C.user_num AS CWS_User_Num\n",
    "        , C.Create_Date AS CWS_Last_Create_Date_curr\n",
    "\n",
    "        ,D.Log_Date AS CWS_Last_Login_Date\n",
    "\n",
    "    FROM df_sg_sfox2_case A\n",
    "    LEFT JOIN df_Last_Next_Date2 B on A.CaseNumber = B.CaseNumber\n",
    "    LEFT JOIN df_CWS_User_Num_unique2 C on A.policy_owner_client_number = C.cli_num\n",
    "    LEFT JOIN df_CWS_Last_Log2 D on A.CaseNumber = D.CaseNumber\n",
    "\n",
    "\n",
    "\"\"\")\n",
    "\n",
    "#Switch back Spark conf to avoid date adjustment\n",
    "spark.conf.set(\"spark.sql.session.timeZone\",\"UTC+0\")\n",
    "\n",
    "\n"
   ]
  },
  {
   "cell_type": "markdown",
   "metadata": {
    "application/vnd.databricks.v1+cell": {
     "cellMetadata": {},
     "inputWidgets": {},
     "nuid": "7faadd47-f6ca-4487-b12f-cf418a7e4fb9",
     "showTitle": false,
     "title": ""
    }
   },
   "source": [
    "## Write to ADLS GEN2"
   ]
  },
  {
   "cell_type": "code",
   "execution_count": 0,
   "metadata": {
    "application/vnd.databricks.v1+cell": {
     "cellMetadata": {
      "byteLimit": 2048000,
      "rowLimit": 10000
     },
     "inputWidgets": {},
     "nuid": "3fcd399c-ef94-468e-954c-8bd3909e6a2d",
     "showTitle": false,
     "title": ""
    }
   },
   "outputs": [],
   "source": [
    "#Switch back Spark conf to avoid date adjustment\n",
    "spark.conf.set(\"spark.sql.session.timeZone\",\"UTC+0\")\n",
    "\n",
    "#Write result to ADLS gen2\n",
    "cservicedm.write.mode(\"overwrite\").parquet(f\"/mnt/lab/vn/project/cpm/datamarts/customer_service_data/cservicedm\")"
   ]
  }
 ],
 "metadata": {
  "application/vnd.databricks.v1+notebook": {
   "dashboards": [],
   "language": "python",
   "notebookMetadata": {
    "mostRecentlyExecutedCommandWithImplicitDF": {
     "commandId": 4307840531960071,
     "dataframes": [
      "_sqldf"
     ]
    },
    "pythonIndentUnit": 4
   },
   "notebookName": "VN_CS_Data_Analytics",
   "widgets": {}
  }
 },
 "nbformat": 4,
 "nbformat_minor": 0
}
