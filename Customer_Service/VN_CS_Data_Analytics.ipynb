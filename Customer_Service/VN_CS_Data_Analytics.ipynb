{
 "cells": [
  {
   "cell_type": "markdown",
   "metadata": {
    "application/vnd.databricks.v1+cell": {
     "cellMetadata": {},
     "inputWidgets": {},
     "nuid": "ac8d5f42-8d33-4e27-8010-6da293bc4844",
     "showTitle": false,
     "title": ""
    }
   },
   "source": [
    "#VN Customer Service Data Analytics\n",
    "\n",
    "###Objective: To curate data table as input to Power BI to visualize Inbound Call and Inbound Email case categories\n",
    "\n",
    "Serve as input to prioritize scope for solution to reduce total inbound call and inbound email volume to reduce call and improve customer experience and self service solution adoption"
   ]
  },
  {
   "cell_type": "code",
   "execution_count": 0,
   "metadata": {
    "application/vnd.databricks.v1+cell": {
     "cellMetadata": {
      "byteLimit": 2048000,
      "rowLimit": 10000
     },
     "inputWidgets": {},
     "nuid": "25e50e31-6d50-4107-9755-fa6ebb397e47",
     "showTitle": false,
     "title": ""
    }
   },
   "outputs": [],
   "source": [
    "%run \"/Repos/dung_nguyen_hoang@mfcgd.com/Utilities/Functions\""
   ]
  },
  {
   "cell_type": "markdown",
   "metadata": {
    "application/vnd.databricks.v1+cell": {
     "cellMetadata": {},
     "inputWidgets": {},
     "nuid": "8841cd7e-7848-4bda-8535-7ed290e879da",
     "showTitle": false,
     "title": ""
    }
   },
   "source": [
    "<strong>Load libls, params and paths</strong>"
   ]
  },
  {
   "cell_type": "code",
   "execution_count": 0,
   "metadata": {
    "application/vnd.databricks.v1+cell": {
     "cellMetadata": {
      "byteLimit": 2048000,
      "rowLimit": 10000
     },
     "inputWidgets": {},
     "nuid": "f684dd12-5413-4e91-b1ff-f87cff9f9971",
     "showTitle": false,
     "title": ""
    }
   },
   "outputs": [],
   "source": [
    "from pyspark.sql.functions import *\n",
    "from datetime import date, datetime, timedelta\n",
    "\n",
    "spark.conf.set('partitionOverwriteMode', 'dynamic')\n",
    "\n",
    "sfdc_path = '/mnt/prod/Published/VN/Master/VN_PUBLISHED_SFDC_EASYCLAIMS_DB/'\n",
    "cics_path = '/mnt/prod/Published/VN/Master/VN_PUBLISHED_CICS_DB/'\n",
    "cas_path = '/mnt/prod/Published/VN/Master/VN_PUBLISHED_CAS_DB/'\n",
    "dm_path = '/mnt/prod/Curated/VN/Master/VN_CURATED_DATAMART_DB/'\n",
    "cws_path = '/mnt/prod/Published/VN/Master/VN_PUBLISHED_ADOBE_PWS_DB/'\n",
    "\n",
    "tblSrc1 = 'CASE/'\n",
    "tblSrc2 = 'USER/'\n",
    "tblSrc3 = 'TCISC_SERVICE_DETAILS/'\n",
    "tblSrc4 = 'TFIELD_VALUES/'\n",
    "tblSrc5 = 'tpolidm_daily/'\n",
    "tblSrc6 = 'tcustdm_daily/'\n",
    "tblSrc7 = 'tagtdm_daily/'\n",
    "tblSrc8 = 'hit_data/'\n",
    "tblSrc9 = 'ACCOUNT/'\n",
    "\n",
    "src_paths = [sfdc_path,cics_path,cas_path,dm_path,cws_path,]\n",
    "src_files = [tblSrc1,tblSrc2,tblSrc3,tblSrc4,\n",
    "             tblSrc5,tblSrc6,tblSrc7,tblSrc8,\n",
    "             tblSrc9,]\n",
    "\n",
    "x = 0 # Change to number of months ago (0: last month-end, 1: last last month-end, ...)\n",
    "today = datetime.now()\n",
    "first_day_of_current_month = today.replace(day=1)\n",
    "current_month = first_day_of_current_month\n",
    "\n",
    "for i in range(x):\n",
    "    first_day_of_previous_month = current_month - timedelta(days=1)\n",
    "    first_day_of_previous_month = first_day_of_previous_month.replace(day=1)\n",
    "    current_month = first_day_of_previous_month\n",
    "\n",
    "last_day_of_x_months_ago = current_month - timedelta(days=1)\n",
    "st_mth = date(2023, 1, 1).strftime('%Y-%m-%d')\n",
    "end_mth = last_day_of_x_months_ago.strftime('%Y-%m-%d')\n",
    "st_yr = st_mth[0:4]\n",
    "print(\"Start and end date:\", st_mth, end_mth)\n",
    "print(f\"Start year: {st_yr}\")"
   ]
  },
  {
   "cell_type": "markdown",
   "metadata": {
    "application/vnd.databricks.v1+cell": {
     "cellMetadata": {},
     "inputWidgets": {},
     "nuid": "5701feba-3b45-451c-beaf-5f3afc1b68e6",
     "showTitle": false,
     "title": ""
    }
   },
   "source": [
    "<strong>Load parquet files and convert to temp views</strong>"
   ]
  },
  {
   "cell_type": "code",
   "execution_count": 0,
   "metadata": {
    "application/vnd.databricks.v1+cell": {
     "cellMetadata": {
      "byteLimit": 2048000,
      "rowLimit": 10000
     },
     "inputWidgets": {},
     "nuid": "52351623-f89c-4542-9955-e7a72c6ae849",
     "showTitle": false,
     "title": ""
    }
   },
   "outputs": [],
   "source": [
    "list_df = load_parquet_files(src_paths, src_files)"
   ]
  },
  {
   "cell_type": "code",
   "execution_count": 0,
   "metadata": {
    "application/vnd.databricks.v1+cell": {
     "cellMetadata": {
      "byteLimit": 2048000,
      "rowLimit": 10000
     },
     "inputWidgets": {},
     "nuid": "7b048627-fce7-4647-bb65-f1b1f97217bf",
     "showTitle": false,
     "title": ""
    }
   },
   "outputs": [],
   "source": [
    "generate_temp_view(list_df)"
   ]
  },
  {
   "cell_type": "markdown",
   "metadata": {
    "application/vnd.databricks.v1+cell": {
     "cellMetadata": {},
     "inputWidgets": {},
     "nuid": "dfe5d80e-e028-40be-a9a0-d4be55e04892",
     "showTitle": false,
     "title": ""
    }
   },
   "source": [
    "##Data Curation"
   ]
  },
  {
   "cell_type": "markdown",
   "metadata": {
    "application/vnd.databricks.v1+cell": {
     "cellMetadata": {},
     "inputWidgets": {},
     "nuid": "8d904721-cc72-4fdb-b825-0a1801b385db",
     "showTitle": false,
     "title": ""
    }
   },
   "source": [
    "Extract data from SFOX to form the base"
   ]
  },
  {
   "cell_type": "code",
   "execution_count": 0,
   "metadata": {
    "application/vnd.databricks.v1+cell": {
     "cellMetadata": {
      "byteLimit": 2048000,
      "implicitDf": true,
      "rowLimit": 10000
     },
     "inputWidgets": {},
     "nuid": "ca75a833-7487-4010-85fa-b6e36e0d532a",
     "showTitle": false,
     "title": ""
    }
   },
   "outputs": [],
   "source": [
    "sfdc_case_string = \"\"\"\n",
    "SELECT DISTINCT\n",
    "  current_date() AS run_dt\n",
    ", 'VN'                    AS Market\n",
    ", A.Id                    AS ID\n",
    ", A.Description           AS Call_Description\n",
    ", D.cli_nm                AS CAS_User_Name\n",
    ", A.CaseNumber            AS Case_ID\n",
    ", A.Case_Type__c          AS CC_Case_Record_Type\n",
    ", A.GroupRequest__c       AS CC_Group_Request\n",
    ", A.Requester_Role__c     AS CC_OwnerRole -- (01-Self/02-Relative/03-Lawyer/04-Reporter/05-Agent/06-Collector/99-Other)\n",
    ", Case When A.Requester_Role__c = '05 - Đại lý' Then 'DCC'\n",
    "  Else 'CCC' End          AS CC_Role_Type\n",
    ", B.Plan_Nm               AS CC_Plan_Name\n",
    ", B.Att_Rid_Ind           AS CC_Rider_Ind\n",
    ", B.Plan_Nm_By_Chnl       AS CC_Plan_Name_Cap\n",
    ", A.Policy_Number__c      AS Pol_Num\n",
    ", B.sa_code               AS CC_Servicing_Agent\n",
    ", C.agt_nm                AS CC_Servicing_AgentName\n",
    ", A.Owner_Department__c   AS CC_User_Department -- ClassificationTypeSubType_c.Department__c\n",
    ", A.Complaint_Channel__c  AS Complaint_Channel\n",
    ", A.CreatedByID           AS CreatedBy_ID\n",
    ", A.CreatedDate           AS Created_Date\n",
    ", A.IsDeleted             AS IsDeleted\n",
    ", A.Origin                AS Origin_of_Inbound_Inquiry\n",
    ", A.Type\t                AS Lv_1_Case_Category -- ClassificationTypeSubType_c.TaskType__c\n",
    ", A.Sub_Type__c           AS Lv_2_Case_Category -- ClassificationTypeSubType_c.SubTaskType__c\n",
    ", A.Subject               AS Request_Content\n",
    ", date_trunc('DD', A.CreatedDate) \n",
    "                          AS Case_Creation_Date\n",
    ", A.LastModifiedDate      AS LastModifiedDate\n",
    "--, ''\t                    AS\tIs_HNW\n",
    ", Case When B.Plan_Code Like 'UL%' Then 'Y' Else 'N' End\n",
    "                        \tAS\tIs_UL\n",
    ", B.ORPH_POL_IND\t        AS\tPolicy_Orphan_Indicator_curr\n",
    ", B.Prod_Cat            \tAS\tPolicy_Base_Category\n",
    ", ''                    \tAS\tPolicy_Base_Needs\n",
    ", B.pol_iss_dt\t          AS\tPolicy_Issue_Date\n",
    ", B.pol_eff_dt          \tAS\tPolicy_Effective_Date\n",
    ", B.xpry_dt             \tAS\tPolicy_Expiry_Date_curr\n",
    ", B.bill_mthd\t            AS\tBill_Method_curr\n",
    "--, ''                    \tAS\tBill_Method2_curr\n",
    ", B.pmt_mode            \tAS\tPayment_Mode_curr\n",
    ", B.po_num              \tAS\tPolicy_Owner_Client_Number\n",
    ", B.po_iss_age          \tAS\tPO_Effective_Age\n",
    ", B.insrd_num           \tAS\tInsured_Client_Number_curr\n",
    ", B.sa_code             \tAS\tServicing_Agent_curr\n",
    ", B.wa_code             \tAS\tWriting_Agent\n",
    ", datediff(A.CreatedDate, B.pol_eff_dt) \n",
    "                          AS Pol_Tenure_in_Days\t\n",
    "--, ''                     \tAS\tSA_Channel_Group_curr\n",
    ", C.loc_code              AS SA_Location\n",
    ", C.channel             \tAS\tSA_Channel_curr\n",
    ", C.team_code\t            AS\tSA_Unit_Name_curr\n",
    ", c.br_code             \tAS\tSA_Branch_Code_curr\n",
    "--, ''\t                    AS\tSA_Zone_curr\n",
    ", Case When C.channel='Banca' Then substr(C.loc_cd,1,3) Else '' End\n",
    "    \t                    AS\tPO_Banca_Group_curr\n",
    ", D.cli_typ              \tAS\tPO_Client_Type_curr\n",
    ", D.birth_dt            \tAS\tPO_DOB\n",
    ", D.sex_code\t            AS\tPO_Gender\n",
    ", CASE WHEN B.wa_code = B.sa_code THEN 'Never Reassigned' ELSE \"Reassigned\" END \n",
    "                          AS Ever_Reassigned\n",
    "\n",
    "FROM `case` A\n",
    "LEFT JOIN tpolidm_daily B on A.Policy_Number__c = B.pol_num\n",
    "LEFT JOIN tagtdm_daily C on B.sa_code = C.agt_code\n",
    "LEFT JOIN tcustdm_daily D on B.po_num = D.cli_num\n",
    "\n",
    "WHERE 1=1\n",
    "AND A.Origin in ('Inbound call', 'Email')\n",
    "AND Year(A.CreatedDate) >= {st_yr}\n",
    "\"\"\"\n",
    "\n",
    "df_vn_sfdc_case = sql_to_df(sfdc_case_string, 1, spark)"
   ]
  },
  {
   "cell_type": "code",
   "execution_count": 0,
   "metadata": {
    "application/vnd.databricks.v1+cell": {
     "cellMetadata": {
      "byteLimit": 2048000,
      "implicitDf": true,
      "rowLimit": 10000
     },
     "inputWidgets": {},
     "nuid": "4b420cee-7a86-412a-9c52-f10b41325e4b",
     "showTitle": false,
     "title": ""
    }
   },
   "outputs": [],
   "source": [
    "#print(df_vn_sfdc_case.count())\n",
    "df_vn_sfdc_case.createOrReplaceTempView('df_vn_sfdc_case')"
   ]
  },
  {
   "cell_type": "code",
   "execution_count": 0,
   "metadata": {
    "application/vnd.databricks.v1+cell": {
     "cellMetadata": {
      "byteLimit": 2048000,
      "implicitDf": true,
      "rowLimit": 10000
     },
     "inputWidgets": {},
     "nuid": "e2ff305b-bb1f-4906-b0a7-c86d6f31a601",
     "showTitle": false,
     "title": ""
    }
   },
   "outputs": [],
   "source": [
    "%sql\n",
    "-- new build\n",
    "create or replace temporary view df_Last_Next_Date2 AS\n",
    "\n",
    "SELECT DISTINCT\n",
    "Case_ID\n",
    ", Pol_Num\n",
    ", concat(Pol_Num, concat(Lv_1_Case_Category, Lv_2_Case_Category)) AS KEY\n",
    ", case_creation_date\n",
    ", lag(case_creation_date) over (partition by concat(Pol_Num, concat(Lv_1_Case_Category, Lv_2_Case_Category)) order by case_creation_date) as Last_Case_Date \n",
    ", lead(case_creation_date) over (partition by concat(Pol_Num, concat(Lv_1_Case_Category, Lv_2_Case_Category)) order by case_creation_date) as Next_Case_Date \n",
    "\n",
    "from (Select distinct Case_ID, case_creation_date, Pol_Num, Lv_1_Case_Category, Lv_2_Case_Category from df_vn_sfdc_case)\n",
    "Where Pol_Num <> '000'"
   ]
  },
  {
   "cell_type": "code",
   "execution_count": 0,
   "metadata": {
    "application/vnd.databricks.v1+cell": {
     "cellMetadata": {
      "byteLimit": 2048000,
      "implicitDf": true,
      "rowLimit": 10000
     },
     "inputWidgets": {},
     "nuid": "739fd88d-f727-48b5-b848-cfc814321a6c",
     "showTitle": false,
     "title": ""
    }
   },
   "outputs": [],
   "source": [
    "%sql\n",
    "\n",
    "CREATE or replace temp view tcws_client_device_log as\n",
    "with cws_acc as (\n",
    "\tselect\n",
    "\t\texternal_id__c cli_num\n",
    "\t\t,mcf_user_id__pc acc_id\n",
    "\tfrom\n",
    "\t\t`account`\n",
    "\twhere\n",
    "\t\tmcf_user_id__pc is not null\n",
    ")\n",
    ",cws_login_transactions as(\n",
    "\tselect\n",
    "\t\thd.post_evar37 as login_id\n",
    "\t\t,concat(hd.post_visid_high, hd.post_visid_low, hd.visit_num) as visit_id\n",
    "\t\t,hd.date_time as login_date_time\n",
    "\t\t,row_number() over(partition by hd.post_evar37 order by hd.date_time asc) rw_num\n",
    "\tfrom\n",
    "\t\thit_data hd\t\n",
    "\twhere\n",
    "\t\t1=1\n",
    "\t\tand hd.exclude_hit = 0\n",
    "\t\tand hd.hit_source not in ('5', '7', '8', '9')\n",
    "\t\tand concat(hd.post_visid_high, hd.post_visid_low) is not null\n",
    "\t\tand hd.post_evar37 <> ''\n",
    "\t\tand hd.post_evar19 = '/portfolio/policies'\n",
    "\t\tand hd.user_server in ('hopdongcuatoi.manulife.com.vn','hopdong.manulife.com.vn')\n",
    ")\n",
    ",cws_reg as (\n",
    "\tselect\n",
    "\t\tlogin_id\n",
    "\t\t,login_date_time reg_dt\n",
    "\tfrom\n",
    "\t\tcws_login_transactions\n",
    "\twhere\n",
    "\t\trw_num = 1\n",
    ")\n",
    ",cws_login as (\n",
    "\tselect\n",
    "\t\tlogin_id\n",
    "\t\t,max(login_date_time) lst_login_dt\n",
    "\tfrom\n",
    "\t\tcws_login_transactions\n",
    "\twhere\n",
    "\t\trw_num > 1\n",
    "\t\t--and login_date_time <= last_day(add_months(current_date,-1))\n",
    "\tgroup by\n",
    "\t\tlogin_id\n",
    ")\n",
    ",tcws_client_log as (\n",
    "\tselect\n",
    "\t\ta.cli_num\n",
    "\t\t,a.acc_id user_num\n",
    "\t\t,b.reg_dt cws_joint_dt\n",
    "\t\t,c.lst_login_dt\n",
    "\tfrom\n",
    "\t\tcws_acc a\n",
    "\t\tleft join cws_reg b on (a.acc_id = b.login_id)\n",
    "\t\tleft join cws_login c on (a.acc_id = c.login_id)\n",
    ") select * from tcws_client_log"
   ]
  },
  {
   "cell_type": "code",
   "execution_count": 0,
   "metadata": {
    "application/vnd.databricks.v1+cell": {
     "cellMetadata": {
      "byteLimit": 2048000,
      "implicitDf": true,
      "rowLimit": 10000
     },
     "inputWidgets": {},
     "nuid": "ad7aa7a4-2d5b-4410-8584-ae2232caa320",
     "showTitle": false,
     "title": ""
    }
   },
   "outputs": [],
   "source": [
    "%sql\n",
    "\n",
    "-- this is to locate the last log-in date prior to case created date\n",
    "\n",
    "create or replace temporary view df_CWS_Usage_last_log AS\n",
    "\n",
    "Select distinct\n",
    " Case_ID\n",
    ",Created_Date\n",
    ",Policy_Owner_Client_Number\n",
    ",User_Num\n",
    ",max(Lst_Login_Dt) as Log_date\n",
    "FROM df_vn_sfdc_case A left join\n",
    "     tcws_client_device_log B on A.Policy_Owner_Client_Number=B.cli_num\n",
    "group by 1,2,3,4"
   ]
  },
  {
   "cell_type": "code",
   "execution_count": 0,
   "metadata": {
    "application/vnd.databricks.v1+cell": {
     "cellMetadata": {
      "byteLimit": 2048000,
      "implicitDf": true,
      "rowLimit": 10000
     },
     "inputWidgets": {},
     "nuid": "f057838d-f76b-45c8-9570-d34e3f02ec95",
     "showTitle": false,
     "title": ""
    }
   },
   "outputs": [],
   "source": [
    "%sql\n",
    "\n",
    "create or replace temporary view df_CWS_Usage_Last_Log2 AS\n",
    "\n",
    "SELECT distinct \n",
    "Case_ID\n",
    ", Log_Date\n",
    ", User_Num\n",
    "From df_CWS_Usage_last_log\n"
   ]
  },
  {
   "cell_type": "code",
   "execution_count": 0,
   "metadata": {
    "application/vnd.databricks.v1+cell": {
     "cellMetadata": {
      "byteLimit": 2048000,
      "implicitDf": true,
      "rowLimit": 10000
     },
     "inputWidgets": {},
     "nuid": "bdba6a13-a776-43e3-9ba2-8caccfe966ab",
     "showTitle": false,
     "title": ""
    }
   },
   "outputs": [],
   "source": [
    "%sql\n",
    "\n",
    "create or replace temporary view df_Output AS\n",
    "\n",
    "SELECT DISTINCT \n",
    "A.run_dt\n",
    ", A.Market\n",
    ", A.ID\n",
    ", A.Call_Description\n",
    ", A.CAS_User_Name\n",
    ", A.Case_ID\n",
    ", A.CC_Case_Record_Type\n",
    ", A.CC_Group_Request\n",
    ", A.CC_OwnerProfileName\n",
    ", A.CC_OwnerRole\n",
    ", A.CC_Role_Type\n",
    ", A.CC_Plan_Name\n",
    ", A.CC_Rider_Ind\n",
    ", A.CC_Plan_Name_Cap\n",
    ", A.Pol_Num\n",
    ", A.CC_Servicing_Agent\n",
    ", A.CC_Servicing_AgentName\n",
    ", A.CC_User_Department\n",
    ", A.Complaint_Channel\n",
    ", A.CreatedBy_ID\n",
    ", A.Created_Date\n",
    ", A.IsDeleted\n",
    ", A.Origin_of_Inbound_Inquiry\n",
    ", A.Lv_1_Case_Category\n",
    ", A.Lv_2_Case_Category\n",
    ", A.Case_Creation_Date\n",
    ", A.LastModifiedDate\n",
    "--, A.Is_HNW\n",
    ", A.Is_UL\n",
    ", A.Policy_Orphan_Indicator_curr\n",
    ", A.Policy_Base_Category\n",
    ", A.Policy_Base_Needs\n",
    ", A.Policy_Issue_Date\n",
    ", A.Policy_Effective_Date\n",
    ", A.Policy_Expiry_Date_curr\n",
    ", A.Bill_Method_curr\n",
    "--, A.Bill_Method2_curr\n",
    ", A.Payment_Mode_curr\n",
    ", A.Policy_Owner_Client_Number\n",
    ", A.PO_Effective_Age\n",
    ", A.Insured_Client_Number_curr\n",
    ", A.Servicing_Agent_curr\n",
    ", A.Writing_Agent\n",
    ", A.Pol_Tenure_in_Days\n",
    ", A.SA_Location\n",
    ", A.SA_Channel_Group_curr\n",
    ", A.SA_Channel_curr\n",
    ", A.SA_Unit_Name_curr\n",
    ", A.SA_Branch_Code_curr\n",
    "--, '' AS SA_Zone_curr\n",
    ", A.PO_Banca_Group_curr\n",
    ", A.PO_Client_Type_curr\n",
    ", A.PO_DOB\n",
    ", A.PO_Gender\n",
    ", A.Ever_Reassigned\n",
    ", from_utc_timestamp(A.Created_Date, 'GMT+7')  as Created_Date_VNT \n",
    "\n",
    ", B.Last_Case_Date\n",
    ", B.Next_Case_Date\n",
    "\n",
    ", C.user_num AS CWS_User_Num\n",
    ", C.cws_joint_dt AS CWS_Last_Create_Date_curr\n",
    "\n",
    ", D.Log_date AS CWS_Last_Login_Date\n",
    "\n",
    "\n",
    "FROM df_vn_sfdc_case A\n",
    "LEFT JOIN df_Last_Next_Date2 B on A.Case_ID = B.Case_ID\n",
    "LEFT JOIN tcws_client_device_log C on A.policy_owner_client_number = C.cli_num\n",
    "LEFT JOIN df_CWS_Usage_Last_Log2 D on A.Case_ID = D.Case_ID\n"
   ]
  },
  {
   "cell_type": "markdown",
   "metadata": {
    "application/vnd.databricks.v1+cell": {
     "cellMetadata": {},
     "inputWidgets": {},
     "nuid": "bdb2afa8-621f-4d5e-9d0e-596f1b9cf37b",
     "showTitle": false,
     "title": ""
    }
   },
   "source": [
    "##Final Output = cservicedm"
   ]
  },
  {
   "cell_type": "code",
   "execution_count": 0,
   "metadata": {
    "application/vnd.databricks.v1+cell": {
     "cellMetadata": {
      "byteLimit": 2048000,
      "implicitDf": true,
      "rowLimit": 10000
     },
     "inputWidgets": {},
     "nuid": "67923ed8-69b7-4535-810a-038b5e3e6a6c",
     "showTitle": false,
     "title": ""
    }
   },
   "outputs": [],
   "source": [
    "sql_string = \"\"\"\n",
    "select * from df_output\n",
    "\"\"\"\n",
    "\n",
    "cservicedm = sql_to_df(sql_string, 1, spark)\n",
    "#print(cservicedm.count())"
   ]
  },
  {
   "cell_type": "markdown",
   "metadata": {
    "application/vnd.databricks.v1+cell": {
     "cellMetadata": {},
     "inputWidgets": {},
     "nuid": "7faadd47-f6ca-4487-b12f-cf418a7e4fb9",
     "showTitle": false,
     "title": ""
    }
   },
   "source": [
    "## Write to ADLS GEN2"
   ]
  },
  {
   "cell_type": "code",
   "execution_count": 0,
   "metadata": {
    "application/vnd.databricks.v1+cell": {
     "cellMetadata": {
      "byteLimit": 2048000,
      "rowLimit": 10000
     },
     "inputWidgets": {},
     "nuid": "3fcd399c-ef94-468e-954c-8bd3909e6a2d",
     "showTitle": false,
     "title": ""
    }
   },
   "outputs": [],
   "source": [
    "#Switch back Spark conf to avoid date adjustment\n",
    "spark.conf.set(\"spark.sql.session.timeZone\",\"UTC+0\")\n",
    "\n",
    "#Write result to ADLS gen2\n",
    "cservicedm.write.mode(\"overwrite\").parquet(f\"/mnt/lab/vn/project/cpm/datamarts/TCESRVDM_DAILY\")"
   ]
  }
 ],
 "metadata": {
  "application/vnd.databricks.v1+notebook": {
   "dashboards": [],
   "language": "python",
   "notebookMetadata": {
    "mostRecentlyExecutedCommandWithImplicitDF": {
     "commandId": 3055878364416671,
     "dataframes": [
      "_sqldf"
     ]
    },
    "pythonIndentUnit": 4
   },
   "notebookName": "VN_CS_Data_Analytics",
   "widgets": {}
  }
 },
 "nbformat": 4,
 "nbformat_minor": 0
}
